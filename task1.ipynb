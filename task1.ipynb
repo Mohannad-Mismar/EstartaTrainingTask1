{
 "cells": [
  {
   "cell_type": "code",
   "execution_count": 640,
   "id": "99a225f5-3187-43a6-a3f1-6b0cd7383e65",
   "metadata": {},
   "outputs": [],
   "source": [
    "import pandas as pd\n",
    "import numpy as np\n",
    "import matplotlib.pyplot as plt"
   ]
  },
  {
   "cell_type": "code",
   "execution_count": 577,
   "id": "c066e394-bcde-47ca-a273-e412e16e0028",
   "metadata": {},
   "outputs": [],
   "source": [
    "df = pd.read_excel(\"Employee Sample Data - A.xlsx\")"
   ]
  },
  {
   "cell_type": "code",
   "execution_count": 578,
   "id": "00db73a0-3406-40f9-8550-03d5008713ae",
   "metadata": {},
   "outputs": [
    {
     "data": {
      "text/html": [
       "<div>\n",
       "<style scoped>\n",
       "    .dataframe tbody tr th:only-of-type {\n",
       "        vertical-align: middle;\n",
       "    }\n",
       "\n",
       "    .dataframe tbody tr th {\n",
       "        vertical-align: top;\n",
       "    }\n",
       "\n",
       "    .dataframe thead th {\n",
       "        text-align: right;\n",
       "    }\n",
       "</style>\n",
       "<table border=\"1\" class=\"dataframe\">\n",
       "  <thead>\n",
       "    <tr style=\"text-align: right;\">\n",
       "      <th></th>\n",
       "      <th>EEID</th>\n",
       "      <th>Full Name</th>\n",
       "      <th>Job Title</th>\n",
       "      <th>Department</th>\n",
       "      <th>Business Unit</th>\n",
       "      <th>Gender</th>\n",
       "      <th>Ethnicity</th>\n",
       "      <th>Age</th>\n",
       "      <th>Hire Date</th>\n",
       "      <th>Annual Salary</th>\n",
       "      <th>Bonus %</th>\n",
       "      <th>Country</th>\n",
       "      <th>City</th>\n",
       "      <th>Exit Date</th>\n",
       "    </tr>\n",
       "  </thead>\n",
       "  <tbody>\n",
       "    <tr>\n",
       "      <th>55</th>\n",
       "      <td>E01797</td>\n",
       "      <td>Piper Lewis</td>\n",
       "      <td>Field Engineer</td>\n",
       "      <td>Engineering</td>\n",
       "      <td>Research &amp; Development</td>\n",
       "      <td>Female</td>\n",
       "      <td>Caucasian</td>\n",
       "      <td>33.0</td>\n",
       "      <td>2018-12-22</td>\n",
       "      <td>NaN</td>\n",
       "      <td>0.00</td>\n",
       "      <td>United States</td>\n",
       "      <td>Chicago</td>\n",
       "      <td>NaT</td>\n",
       "    </tr>\n",
       "    <tr>\n",
       "      <th>56</th>\n",
       "      <td>E01839</td>\n",
       "      <td>Stella Alexander</td>\n",
       "      <td>Automation Engineer</td>\n",
       "      <td>Engineering</td>\n",
       "      <td>Corporate</td>\n",
       "      <td>Female</td>\n",
       "      <td>Caucasian</td>\n",
       "      <td>52.0</td>\n",
       "      <td>2005-12-10</td>\n",
       "      <td>102043.0</td>\n",
       "      <td>0.00</td>\n",
       "      <td>United States</td>\n",
       "      <td>Chicago</td>\n",
       "      <td>NaT</td>\n",
       "    </tr>\n",
       "    <tr>\n",
       "      <th>57</th>\n",
       "      <td>E01633</td>\n",
       "      <td>Addison Do</td>\n",
       "      <td>Operations Engineer</td>\n",
       "      <td>Engineering</td>\n",
       "      <td>Manufacturing</td>\n",
       "      <td>Female</td>\n",
       "      <td>Asian</td>\n",
       "      <td>46.0</td>\n",
       "      <td>2001-05-30</td>\n",
       "      <td>90678.0</td>\n",
       "      <td>0.00</td>\n",
       "      <td>United States</td>\n",
       "      <td>Columbus</td>\n",
       "      <td>NaT</td>\n",
       "    </tr>\n",
       "    <tr>\n",
       "      <th>58</th>\n",
       "      <td>E01848</td>\n",
       "      <td>Zoey Jackson</td>\n",
       "      <td>Business Partner</td>\n",
       "      <td>NaN</td>\n",
       "      <td>Manufacturing</td>\n",
       "      <td>Female</td>\n",
       "      <td>Black</td>\n",
       "      <td>46.0</td>\n",
       "      <td>2008-08-21</td>\n",
       "      <td>59067.0</td>\n",
       "      <td>0.00</td>\n",
       "      <td>United States</td>\n",
       "      <td>Miami</td>\n",
       "      <td>NaT</td>\n",
       "    </tr>\n",
       "    <tr>\n",
       "      <th>59</th>\n",
       "      <td>E00716</td>\n",
       "      <td>John Chow</td>\n",
       "      <td>Sr. Manger</td>\n",
       "      <td>Marketing</td>\n",
       "      <td>Research &amp; Development</td>\n",
       "      <td>Male</td>\n",
       "      <td>Asian</td>\n",
       "      <td>45.0</td>\n",
       "      <td>2021-03-11</td>\n",
       "      <td>135062.0</td>\n",
       "      <td>0.15</td>\n",
       "      <td>China</td>\n",
       "      <td>Chengdu</td>\n",
       "      <td>NaT</td>\n",
       "    </tr>\n",
       "    <tr>\n",
       "      <th>60</th>\n",
       "      <td>E00699</td>\n",
       "      <td>Ava Ayala</td>\n",
       "      <td>Sr. Manger</td>\n",
       "      <td>IT</td>\n",
       "      <td>Corporate</td>\n",
       "      <td>Female</td>\n",
       "      <td>Latino</td>\n",
       "      <td>55.0</td>\n",
       "      <td>2006-08-16</td>\n",
       "      <td>159044.0</td>\n",
       "      <td>0.10</td>\n",
       "      <td>Brazil</td>\n",
       "      <td>Manaus</td>\n",
       "      <td>NaT</td>\n",
       "    </tr>\n",
       "    <tr>\n",
       "      <th>61</th>\n",
       "      <td>E00502</td>\n",
       "      <td>Natalia Salazar</td>\n",
       "      <td>Sr. Analyst</td>\n",
       "      <td>Accounting</td>\n",
       "      <td>Manufacturing</td>\n",
       "      <td>Female</td>\n",
       "      <td>Latino</td>\n",
       "      <td>44.0</td>\n",
       "      <td>2019-01-02</td>\n",
       "      <td>74691.0</td>\n",
       "      <td>0.00</td>\n",
       "      <td>Brazil</td>\n",
       "      <td>Manaus</td>\n",
       "      <td>2020-07-08</td>\n",
       "    </tr>\n",
       "    <tr>\n",
       "      <th>62</th>\n",
       "      <td>E04000</td>\n",
       "      <td>Skylar Carrillo</td>\n",
       "      <td>Engineering Manager</td>\n",
       "      <td>Engineering</td>\n",
       "      <td>Corporate</td>\n",
       "      <td>Female</td>\n",
       "      <td>Latino</td>\n",
       "      <td>44.0</td>\n",
       "      <td>2008-12-18</td>\n",
       "      <td>92753.0</td>\n",
       "      <td>0.13</td>\n",
       "      <td>United States</td>\n",
       "      <td>Austin</td>\n",
       "      <td>2021-06-24</td>\n",
       "    </tr>\n",
       "    <tr>\n",
       "      <th>63</th>\n",
       "      <td>E02112</td>\n",
       "      <td>Christian Sanders</td>\n",
       "      <td>Vice President</td>\n",
       "      <td>Human Resources</td>\n",
       "      <td>Speciality Products</td>\n",
       "      <td>Male</td>\n",
       "      <td>Black</td>\n",
       "      <td>45.0</td>\n",
       "      <td>2013-08-07</td>\n",
       "      <td>236946.0</td>\n",
       "      <td>0.37</td>\n",
       "      <td>United States</td>\n",
       "      <td>Seattle</td>\n",
       "      <td>NaT</td>\n",
       "    </tr>\n",
       "    <tr>\n",
       "      <th>64</th>\n",
       "      <td>E03824</td>\n",
       "      <td>Penelope Coleman</td>\n",
       "      <td>Analyst</td>\n",
       "      <td>Finance</td>\n",
       "      <td>Corporate</td>\n",
       "      <td>Female</td>\n",
       "      <td>Black</td>\n",
       "      <td>36.0</td>\n",
       "      <td>2021-08-27</td>\n",
       "      <td>48906.0</td>\n",
       "      <td>0.00</td>\n",
       "      <td>United States</td>\n",
       "      <td>Miami</td>\n",
       "      <td>NaT</td>\n",
       "    </tr>\n",
       "  </tbody>\n",
       "</table>\n",
       "</div>"
      ],
      "text/plain": [
       "      EEID          Full Name            Job Title       Department  \\\n",
       "55  E01797        Piper Lewis       Field Engineer      Engineering   \n",
       "56  E01839   Stella Alexander  Automation Engineer      Engineering   \n",
       "57  E01633         Addison Do  Operations Engineer      Engineering   \n",
       "58  E01848       Zoey Jackson     Business Partner              NaN   \n",
       "59  E00716          John Chow           Sr. Manger        Marketing   \n",
       "60  E00699          Ava Ayala           Sr. Manger               IT   \n",
       "61  E00502    Natalia Salazar          Sr. Analyst       Accounting   \n",
       "62  E04000    Skylar Carrillo  Engineering Manager      Engineering   \n",
       "63  E02112  Christian Sanders       Vice President  Human Resources   \n",
       "64  E03824   Penelope Coleman              Analyst          Finance   \n",
       "\n",
       "             Business Unit  Gender  Ethnicity   Age  Hire Date  Annual Salary  \\\n",
       "55  Research & Development  Female  Caucasian  33.0 2018-12-22            NaN   \n",
       "56               Corporate  Female  Caucasian  52.0 2005-12-10       102043.0   \n",
       "57           Manufacturing  Female      Asian  46.0 2001-05-30        90678.0   \n",
       "58           Manufacturing  Female      Black  46.0 2008-08-21        59067.0   \n",
       "59  Research & Development    Male      Asian  45.0 2021-03-11       135062.0   \n",
       "60               Corporate  Female     Latino  55.0 2006-08-16       159044.0   \n",
       "61           Manufacturing  Female     Latino  44.0 2019-01-02        74691.0   \n",
       "62               Corporate  Female     Latino  44.0 2008-12-18        92753.0   \n",
       "63     Speciality Products    Male      Black  45.0 2013-08-07       236946.0   \n",
       "64               Corporate  Female      Black  36.0 2021-08-27        48906.0   \n",
       "\n",
       "    Bonus %        Country      City  Exit Date  \n",
       "55     0.00  United States   Chicago        NaT  \n",
       "56     0.00  United States   Chicago        NaT  \n",
       "57     0.00  United States  Columbus        NaT  \n",
       "58     0.00  United States     Miami        NaT  \n",
       "59     0.15          China   Chengdu        NaT  \n",
       "60     0.10         Brazil    Manaus        NaT  \n",
       "61     0.00         Brazil    Manaus 2020-07-08  \n",
       "62     0.13  United States    Austin 2021-06-24  \n",
       "63     0.37  United States   Seattle        NaT  \n",
       "64     0.00  United States     Miami        NaT  "
      ]
     },
     "execution_count": 578,
     "metadata": {},
     "output_type": "execute_result"
    }
   ],
   "source": [
    "df.iloc[55:65]"
   ]
  },
  {
   "cell_type": "markdown",
   "id": "5673354f-8932-4cdf-820f-a836f45ab198",
   "metadata": {},
   "source": [
    "Data Cleaning"
   ]
  },
  {
   "cell_type": "code",
   "execution_count": 582,
   "id": "534988ee-9b85-43c4-a864-57041f959f2d",
   "metadata": {},
   "outputs": [],
   "source": [
    "df.drop('Exit Date',axis = 1 , inplace = True)"
   ]
  },
  {
   "cell_type": "code",
   "execution_count": 584,
   "id": "cafcea67-a45a-4a35-9b7f-218b570baaa4",
   "metadata": {},
   "outputs": [],
   "source": [
    "df['Job Title'] = df['Job Title'].replace('Sr. Manger', 'Sr. Manager')"
   ]
  },
  {
   "cell_type": "code",
   "execution_count": 586,
   "id": "044be1f5-88c6-43ce-8342-8d016ed098ba",
   "metadata": {},
   "outputs": [],
   "source": [
    "df.dropna(subset=['EEID','Full Name'], inplace = True )"
   ]
  },
  {
   "cell_type": "code",
   "execution_count": 588,
   "id": "9ecb80ce-f4e0-48a9-ab8c-53bf02fae08a",
   "metadata": {},
   "outputs": [],
   "source": [
    "df.dropna(subset=['Age','Annual Salary'], how='all',inplace = True)"
   ]
  },
  {
   "cell_type": "code",
   "execution_count": 590,
   "id": "4ea1ae2d-3027-4b45-864f-217b6e232b17",
   "metadata": {},
   "outputs": [],
   "source": [
    "df.dropna(subset=['Job Title','Department'], how='all',inplace = True)"
   ]
  },
  {
   "cell_type": "code",
   "execution_count": 592,
   "id": "9b857af9-80bb-4fba-8fc7-7c8a512758a0",
   "metadata": {},
   "outputs": [],
   "source": [
    "df['Hire Date']=pd.to_datetime(df['Hire Date'],format = 'mixed').dt.date"
   ]
  },
  {
   "cell_type": "code",
   "execution_count": 594,
   "id": "9717db91-1ce7-4bf3-b42d-c2bb9628625c",
   "metadata": {},
   "outputs": [
    {
     "name": "stdout",
     "output_type": "stream",
     "text": [
      "1\n",
      "0\n"
     ]
    }
   ],
   "source": [
    "mask1 = df['Job Title'].isna() & df['Department'].notna() & df['Annual Salary'].notna() & df['Age'].notna()\n",
    "df.loc[mask1, 'Job Title'] = df.loc[mask1].groupby(['Department', 'Annual Salary', 'Age'])['Job Title'].transform(lambda x: x.fillna(x.mode()[0] if not x.mode().empty else np.nan))\n",
    "print(df['Job Title'].isna().sum())\n",
    "df.dropna(subset=['Job Title'], inplace = True )\n",
    "print(df['Job Title'].isna().sum())"
   ]
  },
  {
   "cell_type": "code",
   "execution_count": 596,
   "id": "3e7d6ca1-0f6d-44d3-931b-85a856307d18",
   "metadata": {},
   "outputs": [
    {
     "name": "stdout",
     "output_type": "stream",
     "text": [
      "0\n",
      "0\n"
     ]
    }
   ],
   "source": [
    "df['Department'] = df.groupby(['Job Title'])['Department'].transform(lambda x : x.fillna(x.mode()[0] if not x.mode().empty else np.nan))\n",
    "print(df['Department'].isna().sum())\n",
    "df.dropna(subset=['Department'],inplace = True)\n",
    "print(df['Department'].isna().sum())"
   ]
  },
  {
   "cell_type": "code",
   "execution_count": 598,
   "id": "32aaf23e-28c6-4ac8-a60c-b01a8b61746a",
   "metadata": {},
   "outputs": [
    {
     "name": "stdout",
     "output_type": "stream",
     "text": [
      "0\n"
     ]
    }
   ],
   "source": [
    "print(df['Business Unit'].isna().sum())"
   ]
  },
  {
   "cell_type": "code",
   "execution_count": 600,
   "id": "286412a5-2d25-4b27-82bc-8f335429e8d5",
   "metadata": {},
   "outputs": [
    {
     "name": "stdout",
     "output_type": "stream",
     "text": [
      "1\n"
     ]
    }
   ],
   "source": [
    "print(df['Gender'].isna().sum())"
   ]
  },
  {
   "cell_type": "code",
   "execution_count": 602,
   "id": "4ceb8677-61da-4d82-9ef5-7d49229d56a1",
   "metadata": {},
   "outputs": [],
   "source": [
    "df['Gender'].fillna('Female', inplace=True)"
   ]
  },
  {
   "cell_type": "code",
   "execution_count": 604,
   "id": "c153752d-52d0-41d9-8ffe-da07acd21b66",
   "metadata": {},
   "outputs": [],
   "source": [
    "df['Ethnicity'].fillna('Unknown', inplace=True)"
   ]
  },
  {
   "cell_type": "code",
   "execution_count": 606,
   "id": "f980e59c-1ef8-485d-bc2a-b198670e3f38",
   "metadata": {},
   "outputs": [
    {
     "name": "stdout",
     "output_type": "stream",
     "text": [
      "1\n",
      "0\n"
     ]
    }
   ],
   "source": [
    "mask1 = df['Age'].isna() & df['Annual Salary'].notna()\n",
    "df.loc[mask1, 'Age'] = df.loc[mask1].groupby(['Annual Salary','Department'])['Age'].transform(lambda x: x.fillna(x.mode()[0] if not x.mode().empty else np.nan))\n",
    "print(df['Age'].isna().sum())\n",
    "df.dropna(subset=['Age'], inplace = True )\n",
    "print(df['Age'].isna().sum())"
   ]
  },
  {
   "cell_type": "code",
   "execution_count": 608,
   "id": "56aad0a7-7407-48a5-9555-f5420ebe4f79",
   "metadata": {},
   "outputs": [
    {
     "name": "stdout",
     "output_type": "stream",
     "text": [
      "0\n",
      "0\n"
     ]
    }
   ],
   "source": [
    "df['Annual Salary'] = df.groupby(['Job Title'])['Annual Salary'].transform(lambda x : x.fillna(x.mode()[0] if not x.mode().empty else np.nan))\n",
    "print(df['Annual Salary'].isna().sum())\n",
    "df.dropna(subset=['Annual Salary'],inplace = True)\n",
    "print(df['Annual Salary'].isna().sum())"
   ]
  },
  {
   "cell_type": "code",
   "execution_count": 610,
   "id": "22b27438-cb6a-4fac-860d-1ac509d60fdc",
   "metadata": {},
   "outputs": [
    {
     "name": "stdout",
     "output_type": "stream",
     "text": [
      "0\n"
     ]
    }
   ],
   "source": [
    "df['Bonus %'].fillna(0.0, inplace=True)\n",
    "print(df['Bonus %'].isna().sum())"
   ]
  },
  {
   "cell_type": "code",
   "execution_count": 612,
   "id": "fba068e8-5858-4293-9569-5f5cc2d9eb9f",
   "metadata": {},
   "outputs": [
    {
     "name": "stdout",
     "output_type": "stream",
     "text": [
      "2\n",
      "0\n"
     ]
    }
   ],
   "source": [
    "print(df['Hire Date'].isna().sum())\n",
    "df.dropna(subset=['Hire Date'],inplace = True)\n",
    "print(df['Hire Date'].isna().sum())"
   ]
  },
  {
   "cell_type": "code",
   "execution_count": 614,
   "id": "353ffea1-4aeb-4c83-9963-8fa5d6e63e69",
   "metadata": {},
   "outputs": [
    {
     "name": "stdout",
     "output_type": "stream",
     "text": [
      "0\n"
     ]
    }
   ],
   "source": [
    "print(df['Country'].isna().sum())"
   ]
  },
  {
   "cell_type": "code",
   "execution_count": 616,
   "id": "e9bb5859-6084-4df1-a85b-ac724d6a1479",
   "metadata": {},
   "outputs": [
    {
     "name": "stdout",
     "output_type": "stream",
     "text": [
      "EEID             0\n",
      "Full Name        0\n",
      "Job Title        0\n",
      "Department       0\n",
      "Business Unit    0\n",
      "Gender           0\n",
      "Ethnicity        0\n",
      "Age              0\n",
      "Hire Date        0\n",
      "Annual Salary    0\n",
      "Bonus %          0\n",
      "Country          0\n",
      "City             0\n",
      "dtype: int64\n"
     ]
    }
   ],
   "source": [
    "print(df.isna().sum())"
   ]
  },
  {
   "cell_type": "markdown",
   "id": "837774d4-df03-439e-806e-6c617382985b",
   "metadata": {},
   "source": [
    "2-Change the first 5 rows (input any values)"
   ]
  },
  {
   "cell_type": "code",
   "execution_count": 619,
   "id": "c925b9dc-28a5-4708-b2bc-ff98bb0096c7",
   "metadata": {},
   "outputs": [
    {
     "data": {
      "text/html": [
       "<div>\n",
       "<style scoped>\n",
       "    .dataframe tbody tr th:only-of-type {\n",
       "        vertical-align: middle;\n",
       "    }\n",
       "\n",
       "    .dataframe tbody tr th {\n",
       "        vertical-align: top;\n",
       "    }\n",
       "\n",
       "    .dataframe thead th {\n",
       "        text-align: right;\n",
       "    }\n",
       "</style>\n",
       "<table border=\"1\" class=\"dataframe\">\n",
       "  <thead>\n",
       "    <tr style=\"text-align: right;\">\n",
       "      <th></th>\n",
       "      <th>EEID</th>\n",
       "      <th>Full Name</th>\n",
       "      <th>Job Title</th>\n",
       "      <th>Department</th>\n",
       "      <th>Business Unit</th>\n",
       "      <th>Gender</th>\n",
       "      <th>Ethnicity</th>\n",
       "      <th>Age</th>\n",
       "      <th>Hire Date</th>\n",
       "      <th>Annual Salary</th>\n",
       "      <th>Bonus %</th>\n",
       "      <th>Country</th>\n",
       "      <th>City</th>\n",
       "    </tr>\n",
       "  </thead>\n",
       "  <tbody>\n",
       "    <tr>\n",
       "      <th>0</th>\n",
       "      <td>E02387</td>\n",
       "      <td>Emily Davis</td>\n",
       "      <td>Sr. Manager</td>\n",
       "      <td>IT</td>\n",
       "      <td>Research &amp; Development</td>\n",
       "      <td>Female</td>\n",
       "      <td>Black</td>\n",
       "      <td>55.0</td>\n",
       "      <td>2016-04-08</td>\n",
       "      <td>141604.0</td>\n",
       "      <td>0.15</td>\n",
       "      <td>United States</td>\n",
       "      <td>Seattle</td>\n",
       "    </tr>\n",
       "    <tr>\n",
       "      <th>1</th>\n",
       "      <td>E04105</td>\n",
       "      <td>Theodore Dinh</td>\n",
       "      <td>Technical Architect</td>\n",
       "      <td>IT</td>\n",
       "      <td>Manufacturing</td>\n",
       "      <td>Male</td>\n",
       "      <td>Asian</td>\n",
       "      <td>59.0</td>\n",
       "      <td>1997-11-29</td>\n",
       "      <td>99975.0</td>\n",
       "      <td>0.00</td>\n",
       "      <td>China</td>\n",
       "      <td>Chongqing</td>\n",
       "    </tr>\n",
       "    <tr>\n",
       "      <th>2</th>\n",
       "      <td>E02572</td>\n",
       "      <td>Luna Sanders</td>\n",
       "      <td>Director</td>\n",
       "      <td>Finance</td>\n",
       "      <td>Speciality Products</td>\n",
       "      <td>Female</td>\n",
       "      <td>Caucasian</td>\n",
       "      <td>50.0</td>\n",
       "      <td>2006-10-26</td>\n",
       "      <td>163099.0</td>\n",
       "      <td>0.20</td>\n",
       "      <td>United States</td>\n",
       "      <td>Chicago</td>\n",
       "    </tr>\n",
       "    <tr>\n",
       "      <th>3</th>\n",
       "      <td>E02832</td>\n",
       "      <td>Penelope Jordan</td>\n",
       "      <td>Computer Systems Manager</td>\n",
       "      <td>IT</td>\n",
       "      <td>Manufacturing</td>\n",
       "      <td>Female</td>\n",
       "      <td>Caucasian</td>\n",
       "      <td>26.0</td>\n",
       "      <td>2019-09-27</td>\n",
       "      <td>84913.0</td>\n",
       "      <td>0.07</td>\n",
       "      <td>United States</td>\n",
       "      <td>Chicago</td>\n",
       "    </tr>\n",
       "    <tr>\n",
       "      <th>4</th>\n",
       "      <td>E01639</td>\n",
       "      <td>Austin Vo</td>\n",
       "      <td>Sr. Analyst</td>\n",
       "      <td>Finance</td>\n",
       "      <td>Manufacturing</td>\n",
       "      <td>Male</td>\n",
       "      <td>Asian</td>\n",
       "      <td>55.0</td>\n",
       "      <td>1995-11-20</td>\n",
       "      <td>95409.0</td>\n",
       "      <td>0.00</td>\n",
       "      <td>United States</td>\n",
       "      <td>Phoenix</td>\n",
       "    </tr>\n",
       "  </tbody>\n",
       "</table>\n",
       "</div>"
      ],
      "text/plain": [
       "     EEID        Full Name                 Job Title Department  \\\n",
       "0  E02387      Emily Davis               Sr. Manager         IT   \n",
       "1  E04105    Theodore Dinh       Technical Architect         IT   \n",
       "2  E02572     Luna Sanders                  Director    Finance   \n",
       "3  E02832  Penelope Jordan  Computer Systems Manager         IT   \n",
       "4  E01639        Austin Vo               Sr. Analyst    Finance   \n",
       "\n",
       "            Business Unit  Gender  Ethnicity   Age   Hire Date  Annual Salary  \\\n",
       "0  Research & Development  Female      Black  55.0  2016-04-08       141604.0   \n",
       "1           Manufacturing    Male      Asian  59.0  1997-11-29        99975.0   \n",
       "2     Speciality Products  Female  Caucasian  50.0  2006-10-26       163099.0   \n",
       "3           Manufacturing  Female  Caucasian  26.0  2019-09-27        84913.0   \n",
       "4           Manufacturing    Male      Asian  55.0  1995-11-20        95409.0   \n",
       "\n",
       "   Bonus %        Country       City  \n",
       "0     0.15  United States    Seattle  \n",
       "1     0.00          China  Chongqing  \n",
       "2     0.20  United States    Chicago  \n",
       "3     0.07  United States    Chicago  \n",
       "4     0.00  United States    Phoenix  "
      ]
     },
     "execution_count": 619,
     "metadata": {},
     "output_type": "execute_result"
    }
   ],
   "source": [
    "df.iloc[:5]"
   ]
  },
  {
   "cell_type": "code",
   "execution_count": 621,
   "id": "53b01c69-a7f9-455c-8ac6-82f52c265ccc",
   "metadata": {},
   "outputs": [
    {
     "name": "stdout",
     "output_type": "stream",
     "text": [
      "EEID              object\n",
      "Full Name         object\n",
      "Job Title         object\n",
      "Department        object\n",
      "Business Unit     object\n",
      "Gender            object\n",
      "Ethnicity         object\n",
      "Age              float64\n",
      "Hire Date         object\n",
      "Annual Salary    float64\n",
      "Bonus %          float64\n",
      "Country           object\n",
      "City              object\n",
      "dtype: object\n"
     ]
    }
   ],
   "source": [
    "print(df.dtypes)"
   ]
  },
  {
   "cell_type": "code",
   "execution_count": 623,
   "id": "05b9bf1b-a02b-44fb-9288-43c3d837a6ba",
   "metadata": {},
   "outputs": [],
   "source": [
    "newRows = {\n",
    "    'EEID' : ['E00001','E00002','E00003','E0004','E00005'],\n",
    "    'Full Name' : ['Mohanad Mismar','Mohamad Mismar','Ahmed Mohamad','Khaled Sobhi','Amjad Tahseen'],\n",
    "    'Job Title' : ['Manager','Manager','Vice President','Network Engineer','Quality Engineer'],\n",
    "    'Department': ['IT','Sales','IT','IT','Engineering'],\n",
    "    'Business Unit' : ['Manufacturing','Corporate','Research & Development','Speciality Products','Corporate'],\n",
    "    'Gender' : ['Male','Male','Male','Male','Male'],\n",
    "    'Ethnicity' : ['Asian','Asian','Black','Asian','Black'],\n",
    "    'Age' : [21.0,22.0,53.0,34.0,62.0],\n",
    "    'Hire Date' : ['2018-05-14', '2019-11-30', '2020-07-22', '2021-03-10', '2022-09-01'],\n",
    "    'Annual Salary' : [45000.0, 60000.0, 75000.0, 50000.0, 85000.0],\n",
    "    'Bonus %' : [0.0,0.05,0.06,0.15,0.0],\n",
    "    'Country' : ['USA', 'Canada', 'Germany', 'Australia', 'Brazil'],\n",
    "    'City' : ['New York', 'Toronto', 'Berlin', 'Sydney', 'São Paulo']\n",
    "}\n",
    "new_rows_df = pd.DataFrame(newRows)\n",
    "df.loc[:4, :] = new_rows_df.values"
   ]
  },
  {
   "cell_type": "code",
   "execution_count": 625,
   "id": "38a99249-d272-427e-a939-2d1c6d10bd4b",
   "metadata": {},
   "outputs": [
    {
     "data": {
      "text/html": [
       "<div>\n",
       "<style scoped>\n",
       "    .dataframe tbody tr th:only-of-type {\n",
       "        vertical-align: middle;\n",
       "    }\n",
       "\n",
       "    .dataframe tbody tr th {\n",
       "        vertical-align: top;\n",
       "    }\n",
       "\n",
       "    .dataframe thead th {\n",
       "        text-align: right;\n",
       "    }\n",
       "</style>\n",
       "<table border=\"1\" class=\"dataframe\">\n",
       "  <thead>\n",
       "    <tr style=\"text-align: right;\">\n",
       "      <th></th>\n",
       "      <th>EEID</th>\n",
       "      <th>Full Name</th>\n",
       "      <th>Job Title</th>\n",
       "      <th>Department</th>\n",
       "      <th>Business Unit</th>\n",
       "      <th>Gender</th>\n",
       "      <th>Ethnicity</th>\n",
       "      <th>Age</th>\n",
       "      <th>Hire Date</th>\n",
       "      <th>Annual Salary</th>\n",
       "      <th>Bonus %</th>\n",
       "      <th>Country</th>\n",
       "      <th>City</th>\n",
       "    </tr>\n",
       "  </thead>\n",
       "  <tbody>\n",
       "    <tr>\n",
       "      <th>0</th>\n",
       "      <td>E00001</td>\n",
       "      <td>Mohanad Mismar</td>\n",
       "      <td>Manager</td>\n",
       "      <td>IT</td>\n",
       "      <td>Manufacturing</td>\n",
       "      <td>Male</td>\n",
       "      <td>Asian</td>\n",
       "      <td>21.0</td>\n",
       "      <td>2018-05-14</td>\n",
       "      <td>45000.0</td>\n",
       "      <td>0.00</td>\n",
       "      <td>USA</td>\n",
       "      <td>New York</td>\n",
       "    </tr>\n",
       "    <tr>\n",
       "      <th>1</th>\n",
       "      <td>E00002</td>\n",
       "      <td>Mohamad Mismar</td>\n",
       "      <td>Manager</td>\n",
       "      <td>Sales</td>\n",
       "      <td>Corporate</td>\n",
       "      <td>Male</td>\n",
       "      <td>Asian</td>\n",
       "      <td>22.0</td>\n",
       "      <td>2019-11-30</td>\n",
       "      <td>60000.0</td>\n",
       "      <td>0.05</td>\n",
       "      <td>Canada</td>\n",
       "      <td>Toronto</td>\n",
       "    </tr>\n",
       "    <tr>\n",
       "      <th>2</th>\n",
       "      <td>E00003</td>\n",
       "      <td>Ahmed Mohamad</td>\n",
       "      <td>Vice President</td>\n",
       "      <td>IT</td>\n",
       "      <td>Research &amp; Development</td>\n",
       "      <td>Male</td>\n",
       "      <td>Black</td>\n",
       "      <td>53.0</td>\n",
       "      <td>2020-07-22</td>\n",
       "      <td>75000.0</td>\n",
       "      <td>0.06</td>\n",
       "      <td>Germany</td>\n",
       "      <td>Berlin</td>\n",
       "    </tr>\n",
       "    <tr>\n",
       "      <th>3</th>\n",
       "      <td>E0004</td>\n",
       "      <td>Khaled Sobhi</td>\n",
       "      <td>Network Engineer</td>\n",
       "      <td>IT</td>\n",
       "      <td>Speciality Products</td>\n",
       "      <td>Male</td>\n",
       "      <td>Asian</td>\n",
       "      <td>34.0</td>\n",
       "      <td>2021-03-10</td>\n",
       "      <td>50000.0</td>\n",
       "      <td>0.15</td>\n",
       "      <td>Australia</td>\n",
       "      <td>Sydney</td>\n",
       "    </tr>\n",
       "    <tr>\n",
       "      <th>4</th>\n",
       "      <td>E00005</td>\n",
       "      <td>Amjad Tahseen</td>\n",
       "      <td>Quality Engineer</td>\n",
       "      <td>Engineering</td>\n",
       "      <td>Corporate</td>\n",
       "      <td>Male</td>\n",
       "      <td>Black</td>\n",
       "      <td>62.0</td>\n",
       "      <td>2022-09-01</td>\n",
       "      <td>85000.0</td>\n",
       "      <td>0.00</td>\n",
       "      <td>Brazil</td>\n",
       "      <td>São Paulo</td>\n",
       "    </tr>\n",
       "    <tr>\n",
       "      <th>5</th>\n",
       "      <td>E00644</td>\n",
       "      <td>Joshua Gupta</td>\n",
       "      <td>Account Representative</td>\n",
       "      <td>Sales</td>\n",
       "      <td>Corporate</td>\n",
       "      <td>Male</td>\n",
       "      <td>Asian</td>\n",
       "      <td>57.0</td>\n",
       "      <td>2017-01-24</td>\n",
       "      <td>50994.0</td>\n",
       "      <td>0.00</td>\n",
       "      <td>China</td>\n",
       "      <td>Chongqing</td>\n",
       "    </tr>\n",
       "    <tr>\n",
       "      <th>6</th>\n",
       "      <td>E01550</td>\n",
       "      <td>Ruby Barnes</td>\n",
       "      <td>Manager</td>\n",
       "      <td>IT</td>\n",
       "      <td>Corporate</td>\n",
       "      <td>Female</td>\n",
       "      <td>Caucasian</td>\n",
       "      <td>27.0</td>\n",
       "      <td>2020-07-01</td>\n",
       "      <td>119746.0</td>\n",
       "      <td>0.10</td>\n",
       "      <td>United States</td>\n",
       "      <td>Phoenix</td>\n",
       "    </tr>\n",
       "    <tr>\n",
       "      <th>7</th>\n",
       "      <td>E04332</td>\n",
       "      <td>Luke Martin</td>\n",
       "      <td>Analyst</td>\n",
       "      <td>Finance</td>\n",
       "      <td>Manufacturing</td>\n",
       "      <td>Male</td>\n",
       "      <td>Black</td>\n",
       "      <td>25.0</td>\n",
       "      <td>2020-05-16</td>\n",
       "      <td>41336.0</td>\n",
       "      <td>0.00</td>\n",
       "      <td>United States</td>\n",
       "      <td>Miami</td>\n",
       "    </tr>\n",
       "    <tr>\n",
       "      <th>8</th>\n",
       "      <td>E04533</td>\n",
       "      <td>Easton Bailey</td>\n",
       "      <td>Manager</td>\n",
       "      <td>Accounting</td>\n",
       "      <td>Manufacturing</td>\n",
       "      <td>Male</td>\n",
       "      <td>Caucasian</td>\n",
       "      <td>29.0</td>\n",
       "      <td>2019-01-25</td>\n",
       "      <td>113527.0</td>\n",
       "      <td>0.06</td>\n",
       "      <td>United States</td>\n",
       "      <td>Austin</td>\n",
       "    </tr>\n",
       "  </tbody>\n",
       "</table>\n",
       "</div>"
      ],
      "text/plain": [
       "     EEID       Full Name               Job Title   Department  \\\n",
       "0  E00001  Mohanad Mismar                 Manager           IT   \n",
       "1  E00002  Mohamad Mismar                 Manager        Sales   \n",
       "2  E00003   Ahmed Mohamad          Vice President           IT   \n",
       "3   E0004    Khaled Sobhi        Network Engineer           IT   \n",
       "4  E00005   Amjad Tahseen        Quality Engineer  Engineering   \n",
       "5  E00644    Joshua Gupta  Account Representative        Sales   \n",
       "6  E01550     Ruby Barnes                 Manager           IT   \n",
       "7  E04332     Luke Martin                 Analyst      Finance   \n",
       "8  E04533   Easton Bailey                 Manager   Accounting   \n",
       "\n",
       "            Business Unit  Gender  Ethnicity   Age   Hire Date  Annual Salary  \\\n",
       "0           Manufacturing    Male      Asian  21.0  2018-05-14        45000.0   \n",
       "1               Corporate    Male      Asian  22.0  2019-11-30        60000.0   \n",
       "2  Research & Development    Male      Black  53.0  2020-07-22        75000.0   \n",
       "3     Speciality Products    Male      Asian  34.0  2021-03-10        50000.0   \n",
       "4               Corporate    Male      Black  62.0  2022-09-01        85000.0   \n",
       "5               Corporate    Male      Asian  57.0  2017-01-24        50994.0   \n",
       "6               Corporate  Female  Caucasian  27.0  2020-07-01       119746.0   \n",
       "7           Manufacturing    Male      Black  25.0  2020-05-16        41336.0   \n",
       "8           Manufacturing    Male  Caucasian  29.0  2019-01-25       113527.0   \n",
       "\n",
       "   Bonus %        Country       City  \n",
       "0     0.00            USA   New York  \n",
       "1     0.05         Canada    Toronto  \n",
       "2     0.06        Germany     Berlin  \n",
       "3     0.15      Australia     Sydney  \n",
       "4     0.00         Brazil  São Paulo  \n",
       "5     0.00          China  Chongqing  \n",
       "6     0.10  United States    Phoenix  \n",
       "7     0.00  United States      Miami  \n",
       "8     0.06  United States     Austin  "
      ]
     },
     "execution_count": 625,
     "metadata": {},
     "output_type": "execute_result"
    }
   ],
   "source": [
    "df.iloc[:9]"
   ]
  },
  {
   "cell_type": "markdown",
   "id": "f6ba5836-ed34-4bc6-88bb-76c2e2624387",
   "metadata": {},
   "source": [
    "3-Print the row with the largest salary."
   ]
  },
  {
   "cell_type": "code",
   "execution_count": 628,
   "id": "6e65b2a3-aabf-44c8-a987-9ef89476a97e",
   "metadata": {},
   "outputs": [
    {
     "data": {
      "text/html": [
       "<div>\n",
       "<style scoped>\n",
       "    .dataframe tbody tr th:only-of-type {\n",
       "        vertical-align: middle;\n",
       "    }\n",
       "\n",
       "    .dataframe tbody tr th {\n",
       "        vertical-align: top;\n",
       "    }\n",
       "\n",
       "    .dataframe thead th {\n",
       "        text-align: right;\n",
       "    }\n",
       "</style>\n",
       "<table border=\"1\" class=\"dataframe\">\n",
       "  <thead>\n",
       "    <tr style=\"text-align: right;\">\n",
       "      <th></th>\n",
       "      <th>EEID</th>\n",
       "      <th>Full Name</th>\n",
       "      <th>Job Title</th>\n",
       "      <th>Department</th>\n",
       "      <th>Business Unit</th>\n",
       "      <th>Gender</th>\n",
       "      <th>Ethnicity</th>\n",
       "      <th>Age</th>\n",
       "      <th>Hire Date</th>\n",
       "      <th>Annual Salary</th>\n",
       "      <th>Bonus %</th>\n",
       "      <th>Country</th>\n",
       "      <th>City</th>\n",
       "    </tr>\n",
       "  </thead>\n",
       "  <tbody>\n",
       "    <tr>\n",
       "      <th>989</th>\n",
       "      <td>E04354</td>\n",
       "      <td>Raelynn Rios</td>\n",
       "      <td>Vice President</td>\n",
       "      <td>Sales</td>\n",
       "      <td>Manufacturing</td>\n",
       "      <td>Female</td>\n",
       "      <td>Latino</td>\n",
       "      <td>43.0</td>\n",
       "      <td>2016-08-21</td>\n",
       "      <td>258498.0</td>\n",
       "      <td>0.35</td>\n",
       "      <td>United States</td>\n",
       "      <td>Columbus</td>\n",
       "    </tr>\n",
       "  </tbody>\n",
       "</table>\n",
       "</div>"
      ],
      "text/plain": [
       "       EEID     Full Name       Job Title Department  Business Unit  Gender  \\\n",
       "989  E04354  Raelynn Rios  Vice President      Sales  Manufacturing  Female   \n",
       "\n",
       "    Ethnicity   Age   Hire Date  Annual Salary  Bonus %        Country  \\\n",
       "989    Latino  43.0  2016-08-21       258498.0     0.35  United States   \n",
       "\n",
       "         City  \n",
       "989  Columbus  "
      ]
     },
     "execution_count": 628,
     "metadata": {},
     "output_type": "execute_result"
    }
   ],
   "source": [
    "max_Salary = df['Annual Salary'].max()\n",
    "df.loc[df['Annual Salary'] == max_Salary]"
   ]
  },
  {
   "cell_type": "markdown",
   "id": "81c146bc-7f53-4215-8fdb-4074d8ab8620",
   "metadata": {},
   "source": [
    "4- Group by department, and get the average age as well as average salary."
   ]
  },
  {
   "cell_type": "code",
   "execution_count": 631,
   "id": "67e30b31-4fff-4bf1-936d-ac4807acb5e1",
   "metadata": {},
   "outputs": [
    {
     "name": "stdout",
     "output_type": "stream",
     "text": [
      "age average : Department\n",
      "Accounting         43.656250\n",
      "Engineering        45.859873\n",
      "Finance            45.085470\n",
      "Human Resources    44.411290\n",
      "IT                 44.140426\n",
      "Marketing          43.216667\n",
      "Sales              43.450000\n",
      "Name: Age, dtype: float64\n",
      " salary average: Department\n",
      "Accounting         123146.947917\n",
      "Engineering        107891.445860\n",
      "Finance            123105.017094\n",
      "Human Resources    117398.322581\n",
      "IT                  96888.608511\n",
      "Marketing          129663.033333\n",
      "Sales              110859.442857\n",
      "Name: Annual Salary, dtype: float64\n"
     ]
    }
   ],
   "source": [
    "mean_age = df.groupby('Department')['Age'].mean()\n",
    "mean_salary = df.groupby('Department')['Annual Salary'].mean()\n",
    "print(f\"age average : {mean_age}\\n salary average: {mean_salary}\")"
   ]
  },
  {
   "cell_type": "markdown",
   "id": "92f44199-b38c-4bf3-873c-fc3160ffdb0c",
   "metadata": {},
   "source": [
    "5- Group by department+ethnicity, and find the maximum age, minimum age, and median salary."
   ]
  },
  {
   "cell_type": "code",
   "execution_count": 634,
   "id": "cececc5e-1d44-4b51-b308-d9bca7e35e15",
   "metadata": {},
   "outputs": [
    {
     "name": "stdout",
     "output_type": "stream",
     "text": [
      "max age :\n",
      " Department       Ethnicity\n",
      "Accounting       Asian        64.0\n",
      "                 Black        51.0\n",
      "                 Caucasian    62.0\n",
      "                 Latino       62.0\n",
      "Engineering      Asian        65.0\n",
      "                 Black        62.0\n",
      "                 Caucasian    64.0\n",
      "                 Latino       64.0\n",
      "Finance          Asian        64.0\n",
      "                 Black        65.0\n",
      "                 Caucasian    64.0\n",
      "                 Latino       65.0\n",
      "                 Unknown      60.0\n",
      "Human Resources  Asian        64.0\n",
      "                 Black        55.0\n",
      "                 Caucasian    64.0\n",
      "                 Latino       65.0\n",
      "IT               Asian        65.0\n",
      "                 Black        61.0\n",
      "                 Caucasian    65.0\n",
      "                 Latino       64.0\n",
      "Marketing        Asian        65.0\n",
      "                 Black        65.0\n",
      "                 Caucasian    65.0\n",
      "                 Latino       65.0\n",
      "Sales            Asian        64.0\n",
      "                 Black        65.0\n",
      "                 Caucasian    63.0\n",
      "                 Latino       61.0\n",
      "Name: Age, dtype: float64\n",
      " min age: \n",
      "Department       Ethnicity\n",
      "Accounting       Asian        25.0\n",
      "                 Black        30.0\n",
      "                 Caucasian    26.0\n",
      "                 Latino       26.0\n",
      "Engineering      Asian        25.0\n",
      "                 Black        27.0\n",
      "                 Caucasian    25.0\n",
      "                 Latino       27.0\n",
      "Finance          Asian        25.0\n",
      "                 Black        25.0\n",
      "                 Caucasian    25.0\n",
      "                 Latino       25.0\n",
      "                 Unknown      51.0\n",
      "Human Resources  Asian        25.0\n",
      "                 Black        25.0\n",
      "                 Caucasian    26.0\n",
      "                 Latino       29.0\n",
      "IT               Asian        21.0\n",
      "                 Black        28.0\n",
      "                 Caucasian    26.0\n",
      "                 Latino       25.0\n",
      "Marketing        Asian        25.0\n",
      "                 Black        27.0\n",
      "                 Caucasian    25.0\n",
      "                 Latino       29.0\n",
      "Sales            Asian        22.0\n",
      "                 Black        26.0\n",
      "                 Caucasian    26.0\n",
      "                 Latino       26.0\n",
      "Name: Age, dtype: float64 \n",
      " salary median \n",
      "Department       Ethnicity\n",
      "Accounting       Asian        114893.0\n",
      "                 Black         91853.0\n",
      "                 Caucasian    121159.5\n",
      "                 Latino        92317.0\n",
      "Engineering      Asian         91230.0\n",
      "                 Black         79706.0\n",
      "                 Caucasian     88758.0\n",
      "                 Latino        96818.0\n",
      "Finance          Asian        125329.0\n",
      "                 Black        131652.0\n",
      "                 Caucasian     98946.0\n",
      "                 Latino       124553.0\n",
      "                 Unknown      109220.5\n",
      "Human Resources  Asian        125871.5\n",
      "                 Black        138938.0\n",
      "                 Caucasian    104162.0\n",
      "                 Latino       101985.0\n",
      "IT               Asian         88730.0\n",
      "                 Black         74158.5\n",
      "                 Caucasian     79537.0\n",
      "                 Latino        83403.0\n",
      "Marketing        Asian        147752.0\n",
      "                 Black         86075.5\n",
      "                 Caucasian    113135.0\n",
      "                 Latino        97063.5\n",
      "Sales            Asian         83685.0\n",
      "                 Black         94246.0\n",
      "                 Caucasian     96092.0\n",
      "                 Latino       113269.0\n",
      "Name: Annual Salary, dtype: float64\n"
     ]
    }
   ],
   "source": [
    "a = df.groupby(['Department','Ethnicity'])['Age'].max()\n",
    "b = df.groupby(['Department','Ethnicity'])['Age'].min()\n",
    "c = df.groupby(['Department','Ethnicity'])['Annual Salary'].median()\n",
    "print(f\"max age :\\n {a}\\n min age: \\n{b} \\n salary median \\n{c}\")"
   ]
  },
  {
   "cell_type": "code",
   "execution_count": 638,
   "id": "0575804b-8086-4e28-9add-2e503c1d1729",
   "metadata": {},
   "outputs": [],
   "source": [
    "df.to_excel('Employess_Cleaned1.xlsx', index=False)"
   ]
  },
  {
   "cell_type": "code",
   "execution_count": 650,
   "id": "e5698317-a2c6-4ee6-84fe-eac1c1e2d644",
   "metadata": {},
   "outputs": [
    {
     "data": {
      "image/png": "[encoded data removed]",
      "text/plain": [
       "<Figure size 640x480 with 1 Axes>"
      ]
     },
     "metadata": {},
     "output_type": "display_data"
    }
   ],
   "source": [
    "mean_salary.plot(kind='bar', color='skyblue', edgecolor='black')\n",
    "plt.title('Average Salary by Department')\n",
    "plt.ylabel('Average Salary ($)')\n",
    "plt.grid(axis = 'y')\n",
    "plt.show()"
   ]
  },
  {
   "cell_type": "code",
   "execution_count": null,
   "id": "b9fc507c-1ce7-4b22-a339-7c1a5c1a546c",
   "metadata": {},
   "outputs": [],
   "source": []
  }
 ],
 "metadata": {
  "kernelspec": {
   "display_name": "Python [conda env:base] *",
   "language": "python",
   "name": "conda-base-py"
  },
  "language_info": {
   "codemirror_mode": {
    "name": "ipython",
    "version": 3
   },
   "file_extension": ".py",
   "mimetype": "text/x-python",
   "name": "python",
   "nbconvert_exporter": "python",
   "pygments_lexer": "ipython3",
   "version": "3.12.7"
  }
 },
 "nbformat": 4,
 "nbformat_minor": 5
}
